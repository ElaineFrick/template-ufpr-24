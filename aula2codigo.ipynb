{
 "cells": [
  {
   "cell_type": "code",
   "execution_count": 9,
   "metadata": {},
   "outputs": [],
   "source": [
    "def calcular_pop(): \n",
    "    parana_populacao = 11\n",
    "    parana_crescimento = 0.02\n",
    "    populacao_a_mais_2025 = parana_populacao * parana_crescimento\n",
    "    populacao_2025 = populacao_a_mais_2025 + parana_populacao\n",
    "    print (populacao_2025)"
   ]
  },
  {
   "cell_type": "code",
   "execution_count": 7,
   "metadata": {},
   "outputs": [
    {
     "name": "stdout",
     "output_type": "stream",
     "text": [
      "11.22\n"
     ]
    }
   ],
   "source": [
    "calcular_pop()"
   ]
  },
  {
   "cell_type": "code",
   "execution_count": 12,
   "metadata": {},
   "outputs": [
    {
     "name": "stdout",
     "output_type": "stream",
     "text": [
      "9.333333333333334\n"
     ]
    }
   ],
   "source": [
    "pop_pr = 11\n",
    "pop_rs = 10\n",
    "pop_sc = 7\n",
    "numero_estados = 3\n",
    "pop_sul = pop_pr + pop_rs + pop_sc\n",
    "media_pop = pop_sul / numero_estados\n",
    "print (media_pop)\n"
   ]
  },
  {
   "cell_type": "code",
   "execution_count": 14,
   "metadata": {},
   "outputs": [
    {
     "name": "stdout",
     "output_type": "stream",
     "text": [
      "eu gosto muito de Geografia\n"
     ]
    }
   ],
   "source": [
    "texto_ale= \"eu gosto muito de Geografia\"\n",
    "print (texto_ale)"
   ]
  },
  {
   "cell_type": "code",
   "execution_count": 16,
   "metadata": {},
   "outputs": [
    {
     "name": "stdout",
     "output_type": "stream",
     "text": [
      "Nane\n"
     ]
    }
   ],
   "source": [
    "pseudonimo =\"Nane\"\n",
    "print (pseudonimo)"
   ]
  },
  {
   "cell_type": "code",
   "execution_count": 18,
   "metadata": {},
   "outputs": [
    {
     "name": "stdout",
     "output_type": "stream",
     "text": [
      "NANE\n"
     ]
    }
   ],
   "source": [
    "pseudonimo_maiusc = pseudonimo.upper()\n",
    "print (pseudonimo_maiusc)"
   ]
  },
  {
   "cell_type": "code",
   "execution_count": 22,
   "metadata": {},
   "outputs": [
    {
     "name": "stdout",
     "output_type": "stream",
     "text": [
      "['_N_a_n_e_']\n"
     ]
    }
   ],
   "source": [
    "pseudonimo = pseudonimo.replace ('', '_')\n",
    "pseudonimo_lista = pseudonimo.split()\n",
    "print (pseudonimo_lista)"
   ]
  },
  {
   "cell_type": "code",
   "execution_count": 23,
   "metadata": {},
   "outputs": [
    {
     "name": "stdout",
     "output_type": "stream",
     "text": [
      "prof SR\n",
      "_p_r_o_f_ _S_R_\n",
      "['_p_r_o_f_', '_S_R_']\n"
     ]
    },
    {
     "ename": "AttributeError",
     "evalue": "'list' object has no attribute 'upper'",
     "output_type": "error",
     "traceback": [
      "\u001b[1;31m---------------------------------------------------------------------------\u001b[0m",
      "\u001b[1;31mAttributeError\u001b[0m                            Traceback (most recent call last)",
      "Cell \u001b[1;32mIn[23], line 7\u001b[0m\n\u001b[0;32m      5\u001b[0m pseudonimo \u001b[38;5;241m=\u001b[39m pseudonimo\u001b[38;5;241m.\u001b[39msplit()\n\u001b[0;32m      6\u001b[0m \u001b[38;5;28mprint\u001b[39m(pseudonimo)\n\u001b[1;32m----> 7\u001b[0m pseudonimo \u001b[38;5;241m=\u001b[39m \u001b[43mpseudonimo\u001b[49m\u001b[38;5;241;43m.\u001b[39;49m\u001b[43mupper\u001b[49m()\n\u001b[0;32m      8\u001b[0m \u001b[38;5;28mprint\u001b[39m(pseudonimo)\n\u001b[0;32m      9\u001b[0m pseudonimo \u001b[38;5;241m=\u001b[39m pseudonimo\u001b[38;5;241m.\u001b[39mlower()\n",
      "\u001b[1;31mAttributeError\u001b[0m: 'list' object has no attribute 'upper'"
     ]
    }
   ],
   "source": [
    "pseudonimo = 'prof SR'\n",
    "print(pseudonimo)\n",
    "pseudonimo = pseudonimo.replace('', '_')\n",
    "print(pseudonimo)\n",
    "pseudonimo = pseudonimo.split()\n",
    "print(pseudonimo)\n",
    "pseudonimo = pseudonimo.upper()\n",
    "print(pseudonimo)\n",
    "pseudonimo = pseudonimo.lower()\n",
    "print(pseudonimo)\n"
   ]
  }
 ],
 "metadata": {
  "kernelspec": {
   "display_name": "Python 3",
   "language": "python",
   "name": "python3"
  },
  "language_info": {
   "codemirror_mode": {
    "name": "ipython",
    "version": 3
   },
   "file_extension": ".py",
   "mimetype": "text/x-python",
   "name": "python",
   "nbconvert_exporter": "python",
   "pygments_lexer": "ipython3",
   "version": "3.12.2"
  }
 },
 "nbformat": 4,
 "nbformat_minor": 2
}
